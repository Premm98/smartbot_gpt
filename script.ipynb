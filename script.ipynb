{
 "cells": [
  {
   "cell_type": "code",
   "execution_count": 2,
   "id": "2182dda0-28f7-4949-b8fd-5c7b9d6c434e",
   "metadata": {},
   "outputs": [],
   "source": [
    "from transformers import pipeline\n",
    "\n",
    "model_name = \"bert-large-uncased-whole-word-masking-finetuned-squad\"\n",
    "question_answering = pipeline(\"question-answering\", model=model_name, tokenizer=model_name)"
   ]
  },
  {
   "cell_type": "code",
   "execution_count": 3,
   "id": "d2991b6b-1fd8-41b8-aa6a-fe87a1f69693",
   "metadata": {},
   "outputs": [],
   "source": [
    "context = \"\"\"In the 2nd week of July 2023, vehicle VW e-crafter Reg number KA-05-GD-1232 might be unavailable for courier service due to regular checkup.\n",
    "As per the records, Medel Y from Tesla has been behaving differently from past 1 week. You might want to take a look at vehicle stats.\n",
    "Peugeot Model WXC and reg number KA-09-PA-1223 is available to be electrified with Tesla Model T1 from 01 July 2023.\n",
    "The average SoC (state of charge) of LMV cars from Elis is 27%.\n",
    "Scania P280 reg number KA-01-OP-1289 was Idle for the maximum time in the last quarter.\n",
    "Volvo v60 is the maximum used vehicle for the past 2 months with 6323 kilometers.\n",
    "Volkswagon W785 has used 200 litres for 653 kilometers, not an efficient vehicle I will say.\n",
    "Seventy five percent vehicles(75%) are unavailable for operation during night due to vehicle inspection camp.\n",
    "The current price of unit litre of diesel is 32Kr.\n",
    "The electric usage cost based on past week is 7.32Kr per unit.\n",
    "Vehicles made in year 2020 are the best performing vehicles in all segment.\n",
    "Electric vehicles are less used for long range projects.\n",
    "Volkswagon Polo is the best performing car.\n",
    "Route optimization is currently not possible due to unavailablity of charging station data.\n",
    "Vehicles with battery older than 3 years are more idle than vehicles with newer battery.\n",
    "The idle time to charge electric vehicles is between 11am to 4pm due to high temperature.\n",
    "In the month of may 2023, the total power used for charging EVs is 2313 Kr.\n",
    "During the last month, a total of 53000 Kr was spent for fuel.\n",
    "Average time of running of EVs(electric vehicles) is 13.3 hours in a day.\n",
    "Average time of running of diesel vehicles is 19.1 hours in a day.\n",
    "Scania P32S was used for more than 20 hours in a day.\n",
    "Tyres of Volkswagon Crafter Reg number KA-01-JD-1357 are due for replacement tomorrow.\n",
    "The average of minimum state of charge (SoC) for electric vehicles is 11%.\n",
    "The average of maximum state of charge (SoC) for electric vehicles is 93%.\n",
    "Creta is the compact SUV from Hyundai\"\"\""
   ]
  },
  {
   "cell_type": "code",
   "execution_count": 4,
   "id": "1d54bb33-e867-4276-9810-e34f5316d3b2",
   "metadata": {},
   "outputs": [],
   "source": [
    "questions = [\n",
    "    {\n",
    "        \"question\": \"What is total expense in last month?\",\n",
    "        \"context\": context\n",
    "    },\n",
    "    {\n",
    "        \"question\": \"Which vehicle has best performance?\",\n",
    "        \"context\": context\n",
    "    },\n",
    "    {\n",
    "        \"question\": \"Which vehicle was used for maximum time?\",\n",
    "        \"context\": context\n",
    "    },\n",
    "    {\n",
    "        \"question\": \"Which vehicle was used for maximum distance?\",\n",
    "        \"context\": context\n",
    "    },\n",
    "    {\n",
    "        \"question\": \"Which vehicle has maximum fuel efficiency\",\n",
    "        \"context\": context\n",
    "    },\n",
    "    {\n",
    "        \"question\": \"Which EV can be used in place of diesel vehicle\",\n",
    "        \"context\": context\n",
    "    },\n",
    "    {\n",
    "        \"question\": \"What is the average minimum soc of ev\",\n",
    "        \"context\": context\n",
    "    },\n",
    "    {\n",
    "        \"question\": \"What is the average maximum soc of ev?\",\n",
    "        \"context\": context\n",
    "    }\n",
    "]"
   ]
  },
  {
   "cell_type": "code",
   "execution_count": 5,
   "id": "3901c648-e7b9-48c1-a980-8d127d5fb997",
   "metadata": {},
   "outputs": [
    {
     "name": "stderr",
     "output_type": "stream",
     "text": [
      "/anaconda/envs/py38_default/lib/python3.8/site-packages/torch/utils/data/dataloader.py:645: UserWarning: Length of IterableDataset <transformers.pipelines.pt_utils.PipelineChunkIterator object at 0x7f3ee010f8e0> was reported to be 8 (when accessing len(dataloader)), but 9 samples have been fetched. \n",
      "  warnings.warn(warn_msg)\n",
      "/anaconda/envs/py38_default/lib/python3.8/site-packages/torch/utils/data/dataloader.py:645: UserWarning: Length of IterableDataset <transformers.pipelines.pt_utils.PipelineChunkIterator object at 0x7f3ee010f8e0> was reported to be 8 (when accessing len(dataloader)), but 10 samples have been fetched. \n",
      "  warnings.warn(warn_msg)\n",
      "/anaconda/envs/py38_default/lib/python3.8/site-packages/torch/utils/data/dataloader.py:645: UserWarning: Length of IterableDataset <transformers.pipelines.pt_utils.PipelineChunkIterator object at 0x7f3ee010f8e0> was reported to be 8 (when accessing len(dataloader)), but 11 samples have been fetched. \n",
      "  warnings.warn(warn_msg)\n",
      "/anaconda/envs/py38_default/lib/python3.8/site-packages/torch/utils/data/dataloader.py:645: UserWarning: Length of IterableDataset <transformers.pipelines.pt_utils.PipelineChunkIterator object at 0x7f3ee010f8e0> was reported to be 8 (when accessing len(dataloader)), but 12 samples have been fetched. \n",
      "  warnings.warn(warn_msg)\n",
      "/anaconda/envs/py38_default/lib/python3.8/site-packages/torch/utils/data/dataloader.py:645: UserWarning: Length of IterableDataset <transformers.pipelines.pt_utils.PipelineChunkIterator object at 0x7f3ee010f8e0> was reported to be 8 (when accessing len(dataloader)), but 13 samples have been fetched. \n",
      "  warnings.warn(warn_msg)\n",
      "/anaconda/envs/py38_default/lib/python3.8/site-packages/torch/utils/data/dataloader.py:645: UserWarning: Length of IterableDataset <transformers.pipelines.pt_utils.PipelineChunkIterator object at 0x7f3ee010f8e0> was reported to be 8 (when accessing len(dataloader)), but 14 samples have been fetched. \n",
      "  warnings.warn(warn_msg)\n",
      "/anaconda/envs/py38_default/lib/python3.8/site-packages/torch/utils/data/dataloader.py:645: UserWarning: Length of IterableDataset <transformers.pipelines.pt_utils.PipelineChunkIterator object at 0x7f3ee010f8e0> was reported to be 8 (when accessing len(dataloader)), but 15 samples have been fetched. \n",
      "  warnings.warn(warn_msg)\n",
      "/anaconda/envs/py38_default/lib/python3.8/site-packages/torch/utils/data/dataloader.py:645: UserWarning: Length of IterableDataset <transformers.pipelines.pt_utils.PipelineChunkIterator object at 0x7f3ee010f8e0> was reported to be 8 (when accessing len(dataloader)), but 16 samples have been fetched. \n",
      "  warnings.warn(warn_msg)\n"
     ]
    }
   ],
   "source": [
    "answers = question_answering(questions)"
   ]
  },
  {
   "cell_type": "code",
   "execution_count": 6,
   "id": "de460270-50bf-48b1-ab5a-0a4a052fbe05",
   "metadata": {},
   "outputs": [
    {
     "name": "stdout",
     "output_type": "stream",
     "text": [
      "Question: What is total expense in last month?\n",
      "Answer: 53000 Kr\n",
      "\n",
      "Question: Which vehicle has best performance?\n",
      "Answer: Volkswagon Polo\n",
      "\n",
      "Question: Which vehicle was used for maximum time?\n",
      "Answer: Scania P32S\n",
      "\n",
      "Question: Which vehicle was used for maximum distance?\n",
      "Answer: Volvo v60\n",
      "\n",
      "Question: Which vehicle has maximum fuel efficiency\n",
      "Answer: Volkswagon W785\n",
      "\n",
      "Question: Which EV can be used in place of diesel vehicle\n",
      "Answer: Scania P32S\n",
      "\n",
      "Question: What is the average minimum soc of ev\n",
      "Answer: 27%\n",
      "\n",
      "Question: What is the average maximum soc of ev?\n",
      "Answer: 93%\n",
      "\n"
     ]
    }
   ],
   "source": [
    "for question, answer in zip(questions, answers):\n",
    "    print(\"Question:\", question['question'])\n",
    "    print(\"Answer:\", answer['answer'])\n",
    "    print()\n",
    "\n",
    "    "
   ]
  },
  {
   "cell_type": "code",
   "execution_count": 7,
   "id": "50eb0afa-9923-4afe-81f0-f5ddade3970d",
   "metadata": {},
   "outputs": [],
   "source": [
    "save_directory = \"./saved_model/\""
   ]
  },
  {
   "cell_type": "code",
   "execution_count": 8,
   "id": "bce3a7e2-bf39-4118-98d9-c871f37f6eb3",
   "metadata": {},
   "outputs": [
    {
     "data": {
      "text/plain": [
       "('./saved_model/tokenizer_config.json',\n",
       " './saved_model/special_tokens_map.json',\n",
       " './saved_model/vocab.txt',\n",
       " './saved_model/added_tokens.json',\n",
       " './saved_model/tokenizer.json')"
      ]
     },
     "execution_count": 8,
     "metadata": {},
     "output_type": "execute_result"
    }
   ],
   "source": [
    "# Save the model\n",
    "question_answering.model.save_pretrained(save_directory)\n",
    "\n",
    "# Save the tokenizer\n",
    "question_answering.tokenizer.save_pretrained(save_directory)"
   ]
  },
  {
   "cell_type": "code",
   "execution_count": null,
   "id": "8eac9738-c750-454f-a22b-41c9cc8bb391",
   "metadata": {},
   "outputs": [],
   "source": []
  },
  {
   "cell_type": "code",
   "execution_count": null,
   "id": "40a33848-3284-4675-b7ee-d82c6a20d4ba",
   "metadata": {},
   "outputs": [],
   "source": []
  }
 ],
 "metadata": {
  "kernelspec": {
   "display_name": "py38_default",
   "language": "python",
   "name": "conda-env-py38_default-py"
  },
  "language_info": {
   "codemirror_mode": {
    "name": "ipython",
    "version": 3
   },
   "file_extension": ".py",
   "mimetype": "text/x-python",
   "name": "python",
   "nbconvert_exporter": "python",
   "pygments_lexer": "ipython3",
   "version": "3.8.15"
  }
 },
 "nbformat": 4,
 "nbformat_minor": 5
}
