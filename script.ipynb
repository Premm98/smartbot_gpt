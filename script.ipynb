{
 "cells": [
  {
   "cell_type": "code",
   "execution_count": 2,
   "id": "2182dda0-28f7-4949-b8fd-5c7b9d6c434e",
   "metadata": {},
   "outputs": [],
   "source": [
    "from transformers import pipeline\n",
    "\n",
    "model_name = \"bert-large-uncased-whole-word-masking-finetuned-squad\"\n",
    "question_answering = pipeline(\"question-answering\", model=model_name, tokenizer=model_name)"
   ]
  },
  {
   "cell_type": "code",
   "execution_count": 3,
   "id": "d2991b6b-1fd8-41b8-aa6a-fe87a1f69693",
   "metadata": {},
   "outputs": [],
   "source": [
    "context = \"\"\"Read content from training.txt\"\"\""
   ]
  },
  {
   "cell_type": "code",
   "execution_count": 4,
   "id": "1d54bb33-e867-4276-9810-e34f5316d3b2",
   "metadata": {},
   "outputs": [],
   "source": [
    "questions = [\n",
    "    {\n",
    "        \"question\": \"What is total expense in last month?\",\n",
    "        \"context\": context\n",
    "    },\n",
    "    {\n",
    "        \"question\": \"Which vehicle has best performance?\",\n",
    "        \"context\": context\n",
    "    },\n",
    "    {\n",
    "        \"question\": \"Which vehicle was used for maximum time?\",\n",
    "        \"context\": context\n",
    "    },\n",
    "    {\n",
    "        \"question\": \"Which vehicle was used for maximum distance?\",\n",
    "        \"context\": context\n",
    "    },\n",
    "    {\n",
    "        \"question\": \"Which vehicle has maximum fuel efficiency\",\n",
    "        \"context\": context\n",
    "    },\n",
    "    {\n",
    "        \"question\": \"Which EV can be used in place of diesel vehicle\",\n",
    "        \"context\": context\n",
    "    },\n",
    "    {\n",
    "        \"question\": \"What is the average minimum soc of ev\",\n",
    "        \"context\": context\n",
    "    },\n",
    "    {\n",
    "        \"question\": \"What is the average maximum soc of ev?\",\n",
    "        \"context\": context\n",
    "    }\n",
    "]"
   ]
  },
  {
   "cell_type": "code",
   "execution_count": 5,
   "id": "3901c648-e7b9-48c1-a980-8d127d5fb997",
   "metadata": {},
   "outputs": [
    {
     "name": "stderr",
     "output_type": "stream",
     "text": [
      "/anaconda/envs/py38_default/lib/python3.8/site-packages/torch/utils/data/dataloader.py:645: UserWarning: Length of IterableDataset <transformers.pipelines.pt_utils.PipelineChunkIterator object at 0x7f3ee010f8e0> was reported to be 8 (when accessing len(dataloader)), but 9 samples have been fetched. \n",
      "  warnings.warn(warn_msg)\n",
      "/anaconda/envs/py38_default/lib/python3.8/site-packages/torch/utils/data/dataloader.py:645: UserWarning: Length of IterableDataset <transformers.pipelines.pt_utils.PipelineChunkIterator object at 0x7f3ee010f8e0> was reported to be 8 (when accessing len(dataloader)), but 10 samples have been fetched. \n",
      "  warnings.warn(warn_msg)\n",
      "/anaconda/envs/py38_default/lib/python3.8/site-packages/torch/utils/data/dataloader.py:645: UserWarning: Length of IterableDataset <transformers.pipelines.pt_utils.PipelineChunkIterator object at 0x7f3ee010f8e0> was reported to be 8 (when accessing len(dataloader)), but 11 samples have been fetched. \n",
      "  warnings.warn(warn_msg)\n",
      "/anaconda/envs/py38_default/lib/python3.8/site-packages/torch/utils/data/dataloader.py:645: UserWarning: Length of IterableDataset <transformers.pipelines.pt_utils.PipelineChunkIterator object at 0x7f3ee010f8e0> was reported to be 8 (when accessing len(dataloader)), but 12 samples have been fetched. \n",
      "  warnings.warn(warn_msg)\n",
      "/anaconda/envs/py38_default/lib/python3.8/site-packages/torch/utils/data/dataloader.py:645: UserWarning: Length of IterableDataset <transformers.pipelines.pt_utils.PipelineChunkIterator object at 0x7f3ee010f8e0> was reported to be 8 (when accessing len(dataloader)), but 13 samples have been fetched. \n",
      "  warnings.warn(warn_msg)\n",
      "/anaconda/envs/py38_default/lib/python3.8/site-packages/torch/utils/data/dataloader.py:645: UserWarning: Length of IterableDataset <transformers.pipelines.pt_utils.PipelineChunkIterator object at 0x7f3ee010f8e0> was reported to be 8 (when accessing len(dataloader)), but 14 samples have been fetched. \n",
      "  warnings.warn(warn_msg)\n",
      "/anaconda/envs/py38_default/lib/python3.8/site-packages/torch/utils/data/dataloader.py:645: UserWarning: Length of IterableDataset <transformers.pipelines.pt_utils.PipelineChunkIterator object at 0x7f3ee010f8e0> was reported to be 8 (when accessing len(dataloader)), but 15 samples have been fetched. \n",
      "  warnings.warn(warn_msg)\n",
      "/anaconda/envs/py38_default/lib/python3.8/site-packages/torch/utils/data/dataloader.py:645: UserWarning: Length of IterableDataset <transformers.pipelines.pt_utils.PipelineChunkIterator object at 0x7f3ee010f8e0> was reported to be 8 (when accessing len(dataloader)), but 16 samples have been fetched. \n",
      "  warnings.warn(warn_msg)\n"
     ]
    }
   ],
   "source": [
    "answers = question_answering(questions)"
   ]
  },
  {
   "cell_type": "code",
   "execution_count": 6,
   "id": "de460270-50bf-48b1-ab5a-0a4a052fbe05",
   "metadata": {},
   "outputs": [
    {
     "name": "stdout",
     "output_type": "stream",
     "text": [
      "Question: What is total expense in last month?\n",
      "Answer: 53000 Kr\n",
      "\n",
      "Question: Which vehicle has best performance?\n",
      "Answer: Volkswagon Polo\n",
      "\n",
      "Question: Which vehicle was used for maximum time?\n",
      "Answer: Scania P32S\n",
      "\n",
      "Question: Which vehicle was used for maximum distance?\n",
      "Answer: Volvo v60\n",
      "\n",
      "Question: Which vehicle has maximum fuel efficiency\n",
      "Answer: Volkswagon W785\n",
      "\n",
      "Question: Which EV can be used in place of diesel vehicle\n",
      "Answer: Scania P32S\n",
      "\n",
      "Question: What is the average minimum soc of ev\n",
      "Answer: 27%\n",
      "\n",
      "Question: What is the average maximum soc of ev?\n",
      "Answer: 93%\n",
      "\n"
     ]
    }
   ],
   "source": [
    "for question, answer in zip(questions, answers):\n",
    "    print(\"Question:\", question['question'])\n",
    "    print(\"Answer:\", answer['answer'])\n",
    "    print()\n",
    "\n",
    "    "
   ]
  },
  {
   "cell_type": "code",
   "execution_count": 7,
   "id": "50eb0afa-9923-4afe-81f0-f5ddade3970d",
   "metadata": {},
   "outputs": [],
   "source": [
    "save_directory = \"./saved_model/\""
   ]
  },
  {
   "cell_type": "code",
   "execution_count": 8,
   "id": "bce3a7e2-bf39-4118-98d9-c871f37f6eb3",
   "metadata": {},
   "outputs": [
    {
     "data": {
      "text/plain": [
       "('./saved_model/tokenizer_config.json',\n",
       " './saved_model/special_tokens_map.json',\n",
       " './saved_model/vocab.txt',\n",
       " './saved_model/added_tokens.json',\n",
       " './saved_model/tokenizer.json')"
      ]
     },
     "execution_count": 8,
     "metadata": {},
     "output_type": "execute_result"
    }
   ],
   "source": [
    "# Save the model\n",
    "question_answering.model.save_pretrained(save_directory)\n",
    "\n",
    "# Save the tokenizer\n",
    "question_answering.tokenizer.save_pretrained(save_directory)"
   ]
  },
  {
   "cell_type": "code",
   "execution_count": null,
   "id": "8eac9738-c750-454f-a22b-41c9cc8bb391",
   "metadata": {},
   "outputs": [],
   "source": []
  },
  {
   "cell_type": "code",
   "execution_count": null,
   "id": "40a33848-3284-4675-b7ee-d82c6a20d4ba",
   "metadata": {},
   "outputs": [],
   "source": []
  }
 ],
 "metadata": {
  "kernelspec": {
   "display_name": "py38_default",
   "language": "python",
   "name": "conda-env-py38_default-py"
  },
  "language_info": {
   "codemirror_mode": {
    "name": "ipython",
    "version": 3
   },
   "file_extension": ".py",
   "mimetype": "text/x-python",
   "name": "python",
   "nbconvert_exporter": "python",
   "pygments_lexer": "ipython3",
   "version": "3.8.15"
  }
 },
 "nbformat": 4,
 "nbformat_minor": 5
}
