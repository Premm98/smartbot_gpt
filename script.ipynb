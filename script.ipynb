{
 "cells": [
  {
   "cell_type": "code",
   "execution_count": 2,
   "id": "2182dda0-28f7-4949-b8fd-5c7b9d6c434e",
   "metadata": {},
   "outputs": [],
   "source": [
    "from transformers import pipeline\n",
    "\n",
    "model_name = \"bert-large-uncased-whole-word-masking-finetuned-squad\"\n",
    "question_answering = pipeline(\"question-answering\", model=model_name, tokenizer=model_name)"
   ]
  },
  {
   "cell_type": "code",
   "execution_count": 3,
   "id": "d2991b6b-1fd8-41b8-aa6a-fe87a1f69693",
   "metadata": {},
   "outputs": [],
   "source": [
    "context = \"\"\"Hatchbacks are one of the most popular car body types in terms of overall sales in India. A hatchback can be defined as a vehicle body type that comprises four doors along with an additional rear hatch that opens upward to access the boot space. Hatchbacks are generally designed with compact bodies and are perfect for comfortably seating up to five passengers. Nonetheless, the most striking feature of this segment is the boot: a space behind the rear seats that exists inside the car itself, rather than as a separate space. Thus, when you open the hinged boot of a hatchback, you are practically opening the car itself. 
Hatchbacks are considered the best for city driving as they’re easy to manoeuvre through traffic and compact enough to drive on narrow streets. Their smaller two-box design makes them easier to park. Though there isn’t a specific criterion for size and engine displacement, hatchbacks usually come with a size of under 4 meters and an engine capacity of 0.8 to 1.5 litres. The most striking feature of this segment is its impeccable fuel economy and affordable price point.
Derived from the Latin term “sedere” which means “to sit”, sedans are designed to provide utmost comfort and convenience for passengers both at the front as well as the rear. The major component of a sedan is its longer body that’s built with a three-box configuration consisting of pillars identified as A, B, and C pillars. Compared to hatchbacks, sedans have a separate boot compartment, which exists as an addition to the vehicle’s bodyline. Thus, when you open up a sedan’s boot, you’re opening just the boot and not the car itself. With the boot being a separate compartment, a sedan usually has a larger boot space than a hatchback.

Sedans in India range from compact sedans measuring just under 4 meters to lengthy luxury sedans measuring more than 5 meters in length. The different construction of a sedan increases its price in comparison to hatchbacks but also allows for more interior passenger space and leg room. Larger capacity engines are more common in sedans, with the smallest being a 1.0-litre engine in the smaller sedans. In terms of engines, the smallest you will find on a sedan is a 1.0-litre engine, that only increases for the larger sedan cars.
Quite popular in the Indian market, SUV is a car body-type that comprises vehicles that are both passenger vehicles as well as off-roaders. SUVs are generally large and measure well over the 4 meter mark, with compact SUVs being the exception, coming under 4 meters. Built with a tall bodyline, SUVs provide the driver with a commanding view of the road ahead. Moreover, SUVs have high ground clearance providing better terrain handling capability as well as a stance higher from the ground. This is a feature that makes them distinct from all other vehicle body-types.

In terms of comfort, a compact SUV provides interior space similar to a premium hatchback while midsize and larger SUVs provide more spacious cabins. Their high ground clearance makes SUVs particularly suited to handling rough terrain, while they’re also equipped with terrain modes, 4-wheel drive systems and other off-road specific features. In terms of engines, SUVs feature torque-focused engines that provide better power output at lower RPMs for improved traction in rough terrain.
Multi-utility vehicles (MUVs) or Multi-purpose vehicles (MPVs) are built for maximum practicality and utility. An MUV vehicle is often dubbed as a people carrier due to its ability to seat as many as 10 people. You will often find MUVs being the car of choice for long distance travel due to their increased interior space and higher seating capacity.

MUVs are generally built with a high strength chassis frame, capable of carrying extra passengers as well as luggage. In terms of day-to-day utility, MUVs generally offer better fuel efficiency when compared to SUVs that are similarly sized. Typical powertrains found on MUVs feature large capacity engines of 1.5-litres or more, with some specific cars coming with 1.0-litre engines. For those who want practicality and efficiency over rugged looks and off-road capabilities, an MUV could be the perfect fit.
A body type that isn’t conventional like other bodylines, Coupes are known for their sporty avatar and aerodynamic stance. Coupe is less a body type and more of a body shape as it refers to any car featuring a sloping roofline. While usually associated with two-door sports cars, the coupe bodyline is finding its way to sedans and SUVs as well.

Coupe cars are generally performance oriented vehicles, and are thus capable of going to triple digit speeds in a matter of seconds. They pack in large engines, and are all about sheer performance. Coupes are therefore generally preferred when OEMs need to develop a fast, high-performance, top of the line vehicle.
When it comes to vehicle body-types, there is nothing more desirable than a convertible. Convertible cars are a body-type that is characterized either by a foldable or a completely removable roof. Generally, the roof on-board a convertible is made up of canvas or vinyl material, but it can also be a hard top. This allows you to feel the wind in your hair as you drive and provides nothing short of pure driving pleasure.

Thus, the striking feature of a convertible is the fact that the roof is not only foldable but also removable in some cases. Convertibles are also fitted with sophisticated mechanics that fold the roof in a step-by-step manner within a few seconds. Convertibles are versatile to give you the freedom to enjoy pleasant weather and keep yourself protected when the weather is bad.Pickup trucks are a fairly unique vehicle body-type, offering immense utility in a package that is usable. The unique feature of this body type is that there is a large open cargo space behind the passenger section. This cargo space provides high payload capacity that combines well with the off-roading capability as well as passenger carrying ability of a pickup truck.

The dimensions of a pickup truck are therefore evidently large and the body is usually constructed with a built-on-chassis frame so that maximum load can be carried. A pickup truck is therefore the best vehicle segment if you are someone who is looking for something that has been built for utility above anything else. A pickup truck also comes handy when you need to carry loads around more often, and do not want to opt for a wholly commercial vehicle.\"\"\""
   ]
  },
  {
   "cell_type": "code",
   "execution_count": 4,
   "id": "1d54bb33-e867-4276-9810-e34f5316d3b2",
   "metadata": {},
   "outputs": [],
   "source": [
    "questions = [\n",
    "    {\n",
    "        \"question\": \"What is total expense in last month?\",\n",
    "        \"context\": context\n",
    "    },\n",
    "    {\n",
    "        \"question\": \"Which vehicle has best performance?\",\n",
    "        \"context\": context\n",
    "    },\n",
    "    {\n",
    "        \"question\": \"Which vehicle was used for maximum time?\",\n",
    "        \"context\": context\n",
    "    },\n",
    "    {\n",
    "        \"question\": \"Which vehicle was used for maximum distance?\",\n",
    "        \"context\": context\n",
    "    },\n",
    "    {\n",
    "        \"question\": \"Which vehicle has maximum fuel efficiency\",\n",
    "        \"context\": context\n",
    "    },\n",
    "    {\n",
    "        \"question\": \"Which EV can be used in place of diesel vehicle\",\n",
    "        \"context\": context\n",
    "    },\n",
    "    {\n",
    "        \"question\": \"What is the average minimum soc of ev\",\n",
    "        \"context\": context\n",
    "    },\n",
    "    {\n",
    "        \"question\": \"What is the average maximum soc of ev?\",\n",
    "        \"context\": context\n",
    "    }\n",
    "]"
   ]
  },
  {
   "cell_type": "code",
   "execution_count": 5,
   "id": "3901c648-e7b9-48c1-a980-8d127d5fb997",
   "metadata": {},
   "outputs": [
    {
     "name": "stderr",
     "output_type": "stream",
     "text": [
      "/anaconda/envs/py38_default/lib/python3.8/site-packages/torch/utils/data/dataloader.py:645: UserWarning: Length of IterableDataset <transformers.pipelines.pt_utils.PipelineChunkIterator object at 0x7f3ee010f8e0> was reported to be 8 (when accessing len(dataloader)), but 9 samples have been fetched. \n",
      "  warnings.warn(warn_msg)\n",
      "/anaconda/envs/py38_default/lib/python3.8/site-packages/torch/utils/data/dataloader.py:645: UserWarning: Length of IterableDataset <transformers.pipelines.pt_utils.PipelineChunkIterator object at 0x7f3ee010f8e0> was reported to be 8 (when accessing len(dataloader)), but 10 samples have been fetched. \n",
      "  warnings.warn(warn_msg)\n",
      "/anaconda/envs/py38_default/lib/python3.8/site-packages/torch/utils/data/dataloader.py:645: UserWarning: Length of IterableDataset <transformers.pipelines.pt_utils.PipelineChunkIterator object at 0x7f3ee010f8e0> was reported to be 8 (when accessing len(dataloader)), but 11 samples have been fetched. \n",
      "  warnings.warn(warn_msg)\n",
      "/anaconda/envs/py38_default/lib/python3.8/site-packages/torch/utils/data/dataloader.py:645: UserWarning: Length of IterableDataset <transformers.pipelines.pt_utils.PipelineChunkIterator object at 0x7f3ee010f8e0> was reported to be 8 (when accessing len(dataloader)), but 12 samples have been fetched. \n",
      "  warnings.warn(warn_msg)\n",
      "/anaconda/envs/py38_default/lib/python3.8/site-packages/torch/utils/data/dataloader.py:645: UserWarning: Length of IterableDataset <transformers.pipelines.pt_utils.PipelineChunkIterator object at 0x7f3ee010f8e0> was reported to be 8 (when accessing len(dataloader)), but 13 samples have been fetched. \n",
      "  warnings.warn(warn_msg)\n",
      "/anaconda/envs/py38_default/lib/python3.8/site-packages/torch/utils/data/dataloader.py:645: UserWarning: Length of IterableDataset <transformers.pipelines.pt_utils.PipelineChunkIterator object at 0x7f3ee010f8e0> was reported to be 8 (when accessing len(dataloader)), but 14 samples have been fetched. \n",
      "  warnings.warn(warn_msg)\n",
      "/anaconda/envs/py38_default/lib/python3.8/site-packages/torch/utils/data/dataloader.py:645: UserWarning: Length of IterableDataset <transformers.pipelines.pt_utils.PipelineChunkIterator object at 0x7f3ee010f8e0> was reported to be 8 (when accessing len(dataloader)), but 15 samples have been fetched. \n",
      "  warnings.warn(warn_msg)\n",
      "/anaconda/envs/py38_default/lib/python3.8/site-packages/torch/utils/data/dataloader.py:645: UserWarning: Length of IterableDataset <transformers.pipelines.pt_utils.PipelineChunkIterator object at 0x7f3ee010f8e0> was reported to be 8 (when accessing len(dataloader)), but 16 samples have been fetched. \n",
      "  warnings.warn(warn_msg)\n"
     ]
    }
   ],
   "source": [
    "answers = question_answering(questions)"
   ]
  },
  {
   "cell_type": "code",
   "execution_count": 6,
   "id": "de460270-50bf-48b1-ab5a-0a4a052fbe05",
   "metadata": {},
   "outputs": [
    {
     "name": "stdout",
     "output_type": "stream",
     "text": [
      "Question: What is total expense in last month?\n",
      "Answer: 53000 Kr\n",
      "\n",
      "Question: Which vehicle has best performance?\n",
      "Answer: Volkswagon Polo\n",
      "\n",
      "Question: Which vehicle was used for maximum time?\n",
      "Answer: Scania P32S\n",
      "\n",
      "Question: Which vehicle was used for maximum distance?\n",
      "Answer: Volvo v60\n",
      "\n",
      "Question: Which vehicle has maximum fuel efficiency\n",
      "Answer: Volkswagon W785\n",
      "\n",
      "Question: Which EV can be used in place of diesel vehicle\n",
      "Answer: Scania P32S\n",
      "\n",
      "Question: What is the average minimum soc of ev\n",
      "Answer: 27%\n",
      "\n",
      "Question: What is the average maximum soc of ev?\n",
      "Answer: 93%\n",
      "\n"
     ]
    }
   ],
   "source": [
    "for question, answer in zip(questions, answers):\n",
    "    print(\"Question:\", question['question'])\n",
    "    print(\"Answer:\", answer['answer'])\n",
    "    print()\n",
    "\n",
    "    "
   ]
  },
  {
   "cell_type": "code",
   "execution_count": 7,
   "id": "50eb0afa-9923-4afe-81f0-f5ddade3970d",
   "metadata": {},
   "outputs": [],
   "source": [
    "save_directory = \"./saved_model/\""
   ]
  },
  {
   "cell_type": "code",
   "execution_count": 8,
   "id": "bce3a7e2-bf39-4118-98d9-c871f37f6eb3",
   "metadata": {},
   "outputs": [
    {
     "data": {
      "text/plain": [
       "('./saved_model/tokenizer_config.json',\n",
       " './saved_model/special_tokens_map.json',\n",
       " './saved_model/vocab.txt',\n",
       " './saved_model/added_tokens.json',\n",
       " './saved_model/tokenizer.json')"
      ]
     },
     "execution_count": 8,
     "metadata": {},
     "output_type": "execute_result"
    }
   ],
   "source": [
    "# Save the model\n",
    "question_answering.model.save_pretrained(save_directory)\n",
    "\n",
    "# Save the tokenizer\n",
    "question_answering.tokenizer.save_pretrained(save_directory)"
   ]
  },
  {
   "cell_type": "code",
   "execution_count": null,
   "id": "8eac9738-c750-454f-a22b-41c9cc8bb391",
   "metadata": {},
   "outputs": [],
   "source": []
  },
  {
   "cell_type": "code",
   "execution_count": null,
   "id": "40a33848-3284-4675-b7ee-d82c6a20d4ba",
   "metadata": {},
   "outputs": [],
   "source": []
  }
 ],
 "metadata": {
  "kernelspec": {
   "display_name": "py38_default",
   "language": "python",
   "name": "conda-env-py38_default-py"
  },
  "language_info": {
   "codemirror_mode": {
    "name": "ipython",
    "version": 3
   },
   "file_extension": ".py",
   "mimetype": "text/x-python",
   "name": "python",
   "nbconvert_exporter": "python",
   "pygments_lexer": "ipython3",
   "version": "3.8.15"
  }
 },
 "nbformat": 4,
 "nbformat_minor": 5
}
